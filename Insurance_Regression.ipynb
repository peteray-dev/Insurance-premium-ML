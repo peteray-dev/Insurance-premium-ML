{
  "nbformat": 4,
  "nbformat_minor": 0,
  "metadata": {
    "colab": {
      "provenance": [],
      "authorship_tag": "ABX9TyMl62McJJD1ufI9Sye8L+Ft",
      "include_colab_link": true
    },
    "kernelspec": {
      "name": "python3",
      "display_name": "Python 3"
    },
    "language_info": {
      "name": "python"
    }
  },
  "cells": [
    {
      "cell_type": "markdown",
      "metadata": {
        "id": "view-in-github",
        "colab_type": "text"
      },
      "source": [
        "<a href=\"https://colab.research.google.com/github/peteray-dev/Insurance-premium-ML/blob/master/Insurance_Regression.ipynb\" target=\"_parent\"><img src=\"https://colab.research.google.com/assets/colab-badge.svg\" alt=\"Open In Colab\"/></a>"
      ]
    },
    {
      "cell_type": "code",
      "execution_count": 1,
      "metadata": {
        "id": "5w0nTYmqItXq"
      },
      "outputs": [],
      "source": [
        "\n",
        "from google.colab import userdata\n",
        "import os\n",
        "\n",
        "os.environ[\"KAGGLE_KEY\"] = userdata.get('KAGGLE_KEY')\n",
        "os.environ[\"KAGGLE_USERNAME\"] = userdata.get('KAGGLE_USERNAME')"
      ]
    },
    {
      "cell_type": "code",
      "source": [
        "!kaggle competitions download playground-series-s4e12"
      ],
      "metadata": {
        "colab": {
          "base_uri": "https://localhost:8080/"
        },
        "id": "LRJw9UUtI_ql",
        "outputId": "7a23dac8-4905-48a3-8f05-c54d094b4635"
      },
      "execution_count": 2,
      "outputs": [
        {
          "output_type": "stream",
          "name": "stdout",
          "text": [
            "Downloading playground-series-s4e12.zip to /content\n",
            " 85% 64.0M/75.5M [00:00<00:00, 157MB/s]\n",
            "100% 75.5M/75.5M [00:00<00:00, 151MB/s]\n"
          ]
        }
      ]
    },
    {
      "cell_type": "code",
      "source": [
        "! mkdir train_test_generated\n",
        "\n",
        "! unzip /content/playground-series-s4e12.zip -d train_test_generated\n"
      ],
      "metadata": {
        "colab": {
          "base_uri": "https://localhost:8080/"
        },
        "id": "jYN5ukidJUEm",
        "outputId": "a36d20fc-f208-40f0-8a98-3d602fda5a1c"
      },
      "execution_count": 3,
      "outputs": [
        {
          "output_type": "stream",
          "name": "stdout",
          "text": [
            "Archive:  /content/playground-series-s4e12.zip\n",
            "  inflating: train_test_generated/sample_submission.csv  \n",
            "  inflating: train_test_generated/test.csv  \n",
            "  inflating: train_test_generated/train.csv  \n"
          ]
        }
      ]
    },
    {
      "cell_type": "code",
      "source": [
        "import numpy as np\n",
        "import pandas as pd\n",
        "import matplotlib.pyplot as plt\n",
        "import seaborn as sns\n",
        "from sklearn.impute import SimpleImputer\n",
        "\n",
        "from sklearn.ensemble import RandomForestRegressor\n",
        "from sklearn.model_selection import GridSearchCV\n",
        "from lightgbm import LGBMRegressor\n",
        "from sklearn.metrics import mean_squared_error, mean_absolute_error, r2_score, accuracy_score\n",
        "from sklearn.model_selection import train_test_split\n",
        "from sklearn.preprocessing import LabelEncoder\n",
        "from sklearn.preprocessing import StandardScaler\n"
      ],
      "metadata": {
        "id": "i9xLwPbCJ8_w"
      },
      "execution_count": 4,
      "outputs": []
    },
    {
      "cell_type": "code",
      "source": [
        "df_train = pd.read_csv('/content/train_test_generated/train.csv', index_col='id')\n",
        "df_test = pd.read_csv('/content/train_test_generated/test.csv', index_col='id')\n",
        "df_train.head()"
      ],
      "metadata": {
        "colab": {
          "base_uri": "https://localhost:8080/",
          "height": 362
        },
        "id": "4cvqCVK4JxWt",
        "outputId": "10ec34da-a046-4bd1-c905-51a37c7e3797"
      },
      "execution_count": 5,
      "outputs": [
        {
          "output_type": "execute_result",
          "data": {
            "text/plain": [
              "     Age  Gender  Annual Income Marital Status  Number of Dependents  \\\n",
              "id                                                                     \n",
              "0   19.0  Female        10049.0        Married                   1.0   \n",
              "1   39.0  Female        31678.0       Divorced                   3.0   \n",
              "2   23.0    Male        25602.0       Divorced                   3.0   \n",
              "3   21.0    Male       141855.0        Married                   2.0   \n",
              "4   21.0    Male        39651.0         Single                   1.0   \n",
              "\n",
              "   Education Level     Occupation  Health Score  Location    Policy Type  \\\n",
              "id                                                                         \n",
              "0       Bachelor's  Self-Employed     22.598761     Urban        Premium   \n",
              "1         Master's            NaN     15.569731     Rural  Comprehensive   \n",
              "2      High School  Self-Employed     47.177549  Suburban        Premium   \n",
              "3       Bachelor's            NaN     10.938144     Rural          Basic   \n",
              "4       Bachelor's  Self-Employed     20.376094     Rural        Premium   \n",
              "\n",
              "    Previous Claims  Vehicle Age  Credit Score  Insurance Duration  \\\n",
              "id                                                                   \n",
              "0               2.0         17.0         372.0                 5.0   \n",
              "1               1.0         12.0         694.0                 2.0   \n",
              "2               1.0         14.0           NaN                 3.0   \n",
              "3               1.0          0.0         367.0                 1.0   \n",
              "4               0.0          8.0         598.0                 4.0   \n",
              "\n",
              "             Policy Start Date Customer Feedback Smoking Status  \\\n",
              "id                                                                \n",
              "0   2023-12-23 15:21:39.134960              Poor             No   \n",
              "1   2023-06-12 15:21:39.111551           Average            Yes   \n",
              "2   2023-09-30 15:21:39.221386              Good            Yes   \n",
              "3   2024-06-12 15:21:39.226954              Poor            Yes   \n",
              "4   2021-12-01 15:21:39.252145              Poor            Yes   \n",
              "\n",
              "   Exercise Frequency Property Type  Premium Amount  \n",
              "id                                                   \n",
              "0              Weekly         House          2869.0  \n",
              "1             Monthly         House          1483.0  \n",
              "2              Weekly         House           567.0  \n",
              "3               Daily     Apartment           765.0  \n",
              "4              Weekly         House          2022.0  "
            ],
            "text/html": [
              "\n",
              "  <div id=\"df-a7859104-a869-4156-bdbf-070d384c9e91\" class=\"colab-df-container\">\n",
              "    <div>\n",
              "<style scoped>\n",
              "    .dataframe tbody tr th:only-of-type {\n",
              "        vertical-align: middle;\n",
              "    }\n",
              "\n",
              "    .dataframe tbody tr th {\n",
              "        vertical-align: top;\n",
              "    }\n",
              "\n",
              "    .dataframe thead th {\n",
              "        text-align: right;\n",
              "    }\n",
              "</style>\n",
              "<table border=\"1\" class=\"dataframe\">\n",
              "  <thead>\n",
              "    <tr style=\"text-align: right;\">\n",
              "      <th></th>\n",
              "      <th>Age</th>\n",
              "      <th>Gender</th>\n",
              "      <th>Annual Income</th>\n",
              "      <th>Marital Status</th>\n",
              "      <th>Number of Dependents</th>\n",
              "      <th>Education Level</th>\n",
              "      <th>Occupation</th>\n",
              "      <th>Health Score</th>\n",
              "      <th>Location</th>\n",
              "      <th>Policy Type</th>\n",
              "      <th>Previous Claims</th>\n",
              "      <th>Vehicle Age</th>\n",
              "      <th>Credit Score</th>\n",
              "      <th>Insurance Duration</th>\n",
              "      <th>Policy Start Date</th>\n",
              "      <th>Customer Feedback</th>\n",
              "      <th>Smoking Status</th>\n",
              "      <th>Exercise Frequency</th>\n",
              "      <th>Property Type</th>\n",
              "      <th>Premium Amount</th>\n",
              "    </tr>\n",
              "    <tr>\n",
              "      <th>id</th>\n",
              "      <th></th>\n",
              "      <th></th>\n",
              "      <th></th>\n",
              "      <th></th>\n",
              "      <th></th>\n",
              "      <th></th>\n",
              "      <th></th>\n",
              "      <th></th>\n",
              "      <th></th>\n",
              "      <th></th>\n",
              "      <th></th>\n",
              "      <th></th>\n",
              "      <th></th>\n",
              "      <th></th>\n",
              "      <th></th>\n",
              "      <th></th>\n",
              "      <th></th>\n",
              "      <th></th>\n",
              "      <th></th>\n",
              "      <th></th>\n",
              "    </tr>\n",
              "  </thead>\n",
              "  <tbody>\n",
              "    <tr>\n",
              "      <th>0</th>\n",
              "      <td>19.0</td>\n",
              "      <td>Female</td>\n",
              "      <td>10049.0</td>\n",
              "      <td>Married</td>\n",
              "      <td>1.0</td>\n",
              "      <td>Bachelor's</td>\n",
              "      <td>Self-Employed</td>\n",
              "      <td>22.598761</td>\n",
              "      <td>Urban</td>\n",
              "      <td>Premium</td>\n",
              "      <td>2.0</td>\n",
              "      <td>17.0</td>\n",
              "      <td>372.0</td>\n",
              "      <td>5.0</td>\n",
              "      <td>2023-12-23 15:21:39.134960</td>\n",
              "      <td>Poor</td>\n",
              "      <td>No</td>\n",
              "      <td>Weekly</td>\n",
              "      <td>House</td>\n",
              "      <td>2869.0</td>\n",
              "    </tr>\n",
              "    <tr>\n",
              "      <th>1</th>\n",
              "      <td>39.0</td>\n",
              "      <td>Female</td>\n",
              "      <td>31678.0</td>\n",
              "      <td>Divorced</td>\n",
              "      <td>3.0</td>\n",
              "      <td>Master's</td>\n",
              "      <td>NaN</td>\n",
              "      <td>15.569731</td>\n",
              "      <td>Rural</td>\n",
              "      <td>Comprehensive</td>\n",
              "      <td>1.0</td>\n",
              "      <td>12.0</td>\n",
              "      <td>694.0</td>\n",
              "      <td>2.0</td>\n",
              "      <td>2023-06-12 15:21:39.111551</td>\n",
              "      <td>Average</td>\n",
              "      <td>Yes</td>\n",
              "      <td>Monthly</td>\n",
              "      <td>House</td>\n",
              "      <td>1483.0</td>\n",
              "    </tr>\n",
              "    <tr>\n",
              "      <th>2</th>\n",
              "      <td>23.0</td>\n",
              "      <td>Male</td>\n",
              "      <td>25602.0</td>\n",
              "      <td>Divorced</td>\n",
              "      <td>3.0</td>\n",
              "      <td>High School</td>\n",
              "      <td>Self-Employed</td>\n",
              "      <td>47.177549</td>\n",
              "      <td>Suburban</td>\n",
              "      <td>Premium</td>\n",
              "      <td>1.0</td>\n",
              "      <td>14.0</td>\n",
              "      <td>NaN</td>\n",
              "      <td>3.0</td>\n",
              "      <td>2023-09-30 15:21:39.221386</td>\n",
              "      <td>Good</td>\n",
              "      <td>Yes</td>\n",
              "      <td>Weekly</td>\n",
              "      <td>House</td>\n",
              "      <td>567.0</td>\n",
              "    </tr>\n",
              "    <tr>\n",
              "      <th>3</th>\n",
              "      <td>21.0</td>\n",
              "      <td>Male</td>\n",
              "      <td>141855.0</td>\n",
              "      <td>Married</td>\n",
              "      <td>2.0</td>\n",
              "      <td>Bachelor's</td>\n",
              "      <td>NaN</td>\n",
              "      <td>10.938144</td>\n",
              "      <td>Rural</td>\n",
              "      <td>Basic</td>\n",
              "      <td>1.0</td>\n",
              "      <td>0.0</td>\n",
              "      <td>367.0</td>\n",
              "      <td>1.0</td>\n",
              "      <td>2024-06-12 15:21:39.226954</td>\n",
              "      <td>Poor</td>\n",
              "      <td>Yes</td>\n",
              "      <td>Daily</td>\n",
              "      <td>Apartment</td>\n",
              "      <td>765.0</td>\n",
              "    </tr>\n",
              "    <tr>\n",
              "      <th>4</th>\n",
              "      <td>21.0</td>\n",
              "      <td>Male</td>\n",
              "      <td>39651.0</td>\n",
              "      <td>Single</td>\n",
              "      <td>1.0</td>\n",
              "      <td>Bachelor's</td>\n",
              "      <td>Self-Employed</td>\n",
              "      <td>20.376094</td>\n",
              "      <td>Rural</td>\n",
              "      <td>Premium</td>\n",
              "      <td>0.0</td>\n",
              "      <td>8.0</td>\n",
              "      <td>598.0</td>\n",
              "      <td>4.0</td>\n",
              "      <td>2021-12-01 15:21:39.252145</td>\n",
              "      <td>Poor</td>\n",
              "      <td>Yes</td>\n",
              "      <td>Weekly</td>\n",
              "      <td>House</td>\n",
              "      <td>2022.0</td>\n",
              "    </tr>\n",
              "  </tbody>\n",
              "</table>\n",
              "</div>\n",
              "    <div class=\"colab-df-buttons\">\n",
              "\n",
              "  <div class=\"colab-df-container\">\n",
              "    <button class=\"colab-df-convert\" onclick=\"convertToInteractive('df-a7859104-a869-4156-bdbf-070d384c9e91')\"\n",
              "            title=\"Convert this dataframe to an interactive table.\"\n",
              "            style=\"display:none;\">\n",
              "\n",
              "  <svg xmlns=\"http://www.w3.org/2000/svg\" height=\"24px\" viewBox=\"0 -960 960 960\">\n",
              "    <path d=\"M120-120v-720h720v720H120Zm60-500h600v-160H180v160Zm220 220h160v-160H400v160Zm0 220h160v-160H400v160ZM180-400h160v-160H180v160Zm440 0h160v-160H620v160ZM180-180h160v-160H180v160Zm440 0h160v-160H620v160Z\"/>\n",
              "  </svg>\n",
              "    </button>\n",
              "\n",
              "  <style>\n",
              "    .colab-df-container {\n",
              "      display:flex;\n",
              "      gap: 12px;\n",
              "    }\n",
              "\n",
              "    .colab-df-convert {\n",
              "      background-color: #E8F0FE;\n",
              "      border: none;\n",
              "      border-radius: 50%;\n",
              "      cursor: pointer;\n",
              "      display: none;\n",
              "      fill: #1967D2;\n",
              "      height: 32px;\n",
              "      padding: 0 0 0 0;\n",
              "      width: 32px;\n",
              "    }\n",
              "\n",
              "    .colab-df-convert:hover {\n",
              "      background-color: #E2EBFA;\n",
              "      box-shadow: 0px 1px 2px rgba(60, 64, 67, 0.3), 0px 1px 3px 1px rgba(60, 64, 67, 0.15);\n",
              "      fill: #174EA6;\n",
              "    }\n",
              "\n",
              "    .colab-df-buttons div {\n",
              "      margin-bottom: 4px;\n",
              "    }\n",
              "\n",
              "    [theme=dark] .colab-df-convert {\n",
              "      background-color: #3B4455;\n",
              "      fill: #D2E3FC;\n",
              "    }\n",
              "\n",
              "    [theme=dark] .colab-df-convert:hover {\n",
              "      background-color: #434B5C;\n",
              "      box-shadow: 0px 1px 3px 1px rgba(0, 0, 0, 0.15);\n",
              "      filter: drop-shadow(0px 1px 2px rgba(0, 0, 0, 0.3));\n",
              "      fill: #FFFFFF;\n",
              "    }\n",
              "  </style>\n",
              "\n",
              "    <script>\n",
              "      const buttonEl =\n",
              "        document.querySelector('#df-a7859104-a869-4156-bdbf-070d384c9e91 button.colab-df-convert');\n",
              "      buttonEl.style.display =\n",
              "        google.colab.kernel.accessAllowed ? 'block' : 'none';\n",
              "\n",
              "      async function convertToInteractive(key) {\n",
              "        const element = document.querySelector('#df-a7859104-a869-4156-bdbf-070d384c9e91');\n",
              "        const dataTable =\n",
              "          await google.colab.kernel.invokeFunction('convertToInteractive',\n",
              "                                                    [key], {});\n",
              "        if (!dataTable) return;\n",
              "\n",
              "        const docLinkHtml = 'Like what you see? Visit the ' +\n",
              "          '<a target=\"_blank\" href=https://colab.research.google.com/notebooks/data_table.ipynb>data table notebook</a>'\n",
              "          + ' to learn more about interactive tables.';\n",
              "        element.innerHTML = '';\n",
              "        dataTable['output_type'] = 'display_data';\n",
              "        await google.colab.output.renderOutput(dataTable, element);\n",
              "        const docLink = document.createElement('div');\n",
              "        docLink.innerHTML = docLinkHtml;\n",
              "        element.appendChild(docLink);\n",
              "      }\n",
              "    </script>\n",
              "  </div>\n",
              "\n",
              "\n",
              "<div id=\"df-0108c2d1-38e5-428a-a249-b310aa23bee5\">\n",
              "  <button class=\"colab-df-quickchart\" onclick=\"quickchart('df-0108c2d1-38e5-428a-a249-b310aa23bee5')\"\n",
              "            title=\"Suggest charts\"\n",
              "            style=\"display:none;\">\n",
              "\n",
              "<svg xmlns=\"http://www.w3.org/2000/svg\" height=\"24px\"viewBox=\"0 0 24 24\"\n",
              "     width=\"24px\">\n",
              "    <g>\n",
              "        <path d=\"M19 3H5c-1.1 0-2 .9-2 2v14c0 1.1.9 2 2 2h14c1.1 0 2-.9 2-2V5c0-1.1-.9-2-2-2zM9 17H7v-7h2v7zm4 0h-2V7h2v10zm4 0h-2v-4h2v4z\"/>\n",
              "    </g>\n",
              "</svg>\n",
              "  </button>\n",
              "\n",
              "<style>\n",
              "  .colab-df-quickchart {\n",
              "      --bg-color: #E8F0FE;\n",
              "      --fill-color: #1967D2;\n",
              "      --hover-bg-color: #E2EBFA;\n",
              "      --hover-fill-color: #174EA6;\n",
              "      --disabled-fill-color: #AAA;\n",
              "      --disabled-bg-color: #DDD;\n",
              "  }\n",
              "\n",
              "  [theme=dark] .colab-df-quickchart {\n",
              "      --bg-color: #3B4455;\n",
              "      --fill-color: #D2E3FC;\n",
              "      --hover-bg-color: #434B5C;\n",
              "      --hover-fill-color: #FFFFFF;\n",
              "      --disabled-bg-color: #3B4455;\n",
              "      --disabled-fill-color: #666;\n",
              "  }\n",
              "\n",
              "  .colab-df-quickchart {\n",
              "    background-color: var(--bg-color);\n",
              "    border: none;\n",
              "    border-radius: 50%;\n",
              "    cursor: pointer;\n",
              "    display: none;\n",
              "    fill: var(--fill-color);\n",
              "    height: 32px;\n",
              "    padding: 0;\n",
              "    width: 32px;\n",
              "  }\n",
              "\n",
              "  .colab-df-quickchart:hover {\n",
              "    background-color: var(--hover-bg-color);\n",
              "    box-shadow: 0 1px 2px rgba(60, 64, 67, 0.3), 0 1px 3px 1px rgba(60, 64, 67, 0.15);\n",
              "    fill: var(--button-hover-fill-color);\n",
              "  }\n",
              "\n",
              "  .colab-df-quickchart-complete:disabled,\n",
              "  .colab-df-quickchart-complete:disabled:hover {\n",
              "    background-color: var(--disabled-bg-color);\n",
              "    fill: var(--disabled-fill-color);\n",
              "    box-shadow: none;\n",
              "  }\n",
              "\n",
              "  .colab-df-spinner {\n",
              "    border: 2px solid var(--fill-color);\n",
              "    border-color: transparent;\n",
              "    border-bottom-color: var(--fill-color);\n",
              "    animation:\n",
              "      spin 1s steps(1) infinite;\n",
              "  }\n",
              "\n",
              "  @keyframes spin {\n",
              "    0% {\n",
              "      border-color: transparent;\n",
              "      border-bottom-color: var(--fill-color);\n",
              "      border-left-color: var(--fill-color);\n",
              "    }\n",
              "    20% {\n",
              "      border-color: transparent;\n",
              "      border-left-color: var(--fill-color);\n",
              "      border-top-color: var(--fill-color);\n",
              "    }\n",
              "    30% {\n",
              "      border-color: transparent;\n",
              "      border-left-color: var(--fill-color);\n",
              "      border-top-color: var(--fill-color);\n",
              "      border-right-color: var(--fill-color);\n",
              "    }\n",
              "    40% {\n",
              "      border-color: transparent;\n",
              "      border-right-color: var(--fill-color);\n",
              "      border-top-color: var(--fill-color);\n",
              "    }\n",
              "    60% {\n",
              "      border-color: transparent;\n",
              "      border-right-color: var(--fill-color);\n",
              "    }\n",
              "    80% {\n",
              "      border-color: transparent;\n",
              "      border-right-color: var(--fill-color);\n",
              "      border-bottom-color: var(--fill-color);\n",
              "    }\n",
              "    90% {\n",
              "      border-color: transparent;\n",
              "      border-bottom-color: var(--fill-color);\n",
              "    }\n",
              "  }\n",
              "</style>\n",
              "\n",
              "  <script>\n",
              "    async function quickchart(key) {\n",
              "      const quickchartButtonEl =\n",
              "        document.querySelector('#' + key + ' button');\n",
              "      quickchartButtonEl.disabled = true;  // To prevent multiple clicks.\n",
              "      quickchartButtonEl.classList.add('colab-df-spinner');\n",
              "      try {\n",
              "        const charts = await google.colab.kernel.invokeFunction(\n",
              "            'suggestCharts', [key], {});\n",
              "      } catch (error) {\n",
              "        console.error('Error during call to suggestCharts:', error);\n",
              "      }\n",
              "      quickchartButtonEl.classList.remove('colab-df-spinner');\n",
              "      quickchartButtonEl.classList.add('colab-df-quickchart-complete');\n",
              "    }\n",
              "    (() => {\n",
              "      let quickchartButtonEl =\n",
              "        document.querySelector('#df-0108c2d1-38e5-428a-a249-b310aa23bee5 button');\n",
              "      quickchartButtonEl.style.display =\n",
              "        google.colab.kernel.accessAllowed ? 'block' : 'none';\n",
              "    })();\n",
              "  </script>\n",
              "</div>\n",
              "\n",
              "    </div>\n",
              "  </div>\n"
            ],
            "application/vnd.google.colaboratory.intrinsic+json": {
              "type": "dataframe",
              "variable_name": "df_train"
            }
          },
          "metadata": {},
          "execution_count": 5
        }
      ]
    },
    {
      "cell_type": "code",
      "source": [
        "display(df_test.info())\n",
        "display(df_train.info())"
      ],
      "metadata": {
        "id": "WcSpRlS13ews",
        "outputId": "2e5008c1-9928-4301-804f-ec02f932389e",
        "colab": {
          "base_uri": "https://localhost:8080/",
          "height": 1000
        }
      },
      "execution_count": 6,
      "outputs": [
        {
          "output_type": "stream",
          "name": "stdout",
          "text": [
            "<class 'pandas.core.frame.DataFrame'>\n",
            "Index: 800000 entries, 1200000 to 1999999\n",
            "Data columns (total 19 columns):\n",
            " #   Column                Non-Null Count   Dtype  \n",
            "---  ------                --------------   -----  \n",
            " 0   Age                   787511 non-null  float64\n",
            " 1   Gender                800000 non-null  object \n",
            " 2   Annual Income         770140 non-null  float64\n",
            " 3   Marital Status        787664 non-null  object \n",
            " 4   Number of Dependents  726870 non-null  float64\n",
            " 5   Education Level       800000 non-null  object \n",
            " 6   Occupation            560875 non-null  object \n",
            " 7   Health Score          750551 non-null  float64\n",
            " 8   Location              800000 non-null  object \n",
            " 9   Policy Type           800000 non-null  object \n",
            " 10  Previous Claims       557198 non-null  float64\n",
            " 11  Vehicle Age           799997 non-null  float64\n",
            " 12  Credit Score          708549 non-null  float64\n",
            " 13  Insurance Duration    799998 non-null  float64\n",
            " 14  Policy Start Date     800000 non-null  object \n",
            " 15  Customer Feedback     747724 non-null  object \n",
            " 16  Smoking Status        800000 non-null  object \n",
            " 17  Exercise Frequency    800000 non-null  object \n",
            " 18  Property Type         800000 non-null  object \n",
            "dtypes: float64(8), object(11)\n",
            "memory usage: 122.1+ MB\n"
          ]
        },
        {
          "output_type": "display_data",
          "data": {
            "text/plain": [
              "None"
            ]
          },
          "metadata": {}
        },
        {
          "output_type": "stream",
          "name": "stdout",
          "text": [
            "<class 'pandas.core.frame.DataFrame'>\n",
            "Index: 1200000 entries, 0 to 1199999\n",
            "Data columns (total 20 columns):\n",
            " #   Column                Non-Null Count    Dtype  \n",
            "---  ------                --------------    -----  \n",
            " 0   Age                   1181295 non-null  float64\n",
            " 1   Gender                1200000 non-null  object \n",
            " 2   Annual Income         1155051 non-null  float64\n",
            " 3   Marital Status        1181471 non-null  object \n",
            " 4   Number of Dependents  1090328 non-null  float64\n",
            " 5   Education Level       1200000 non-null  object \n",
            " 6   Occupation            841925 non-null   object \n",
            " 7   Health Score          1125924 non-null  float64\n",
            " 8   Location              1200000 non-null  object \n",
            " 9   Policy Type           1200000 non-null  object \n",
            " 10  Previous Claims       835971 non-null   float64\n",
            " 11  Vehicle Age           1199994 non-null  float64\n",
            " 12  Credit Score          1062118 non-null  float64\n",
            " 13  Insurance Duration    1199999 non-null  float64\n",
            " 14  Policy Start Date     1200000 non-null  object \n",
            " 15  Customer Feedback     1122176 non-null  object \n",
            " 16  Smoking Status        1200000 non-null  object \n",
            " 17  Exercise Frequency    1200000 non-null  object \n",
            " 18  Property Type         1200000 non-null  object \n",
            " 19  Premium Amount        1200000 non-null  float64\n",
            "dtypes: float64(9), object(11)\n",
            "memory usage: 192.3+ MB\n"
          ]
        },
        {
          "output_type": "display_data",
          "data": {
            "text/plain": [
              "None"
            ]
          },
          "metadata": {}
        }
      ]
    },
    {
      "cell_type": "code",
      "source": [
        "# getting the unique item\n",
        "\n",
        "item = df_train.select_dtypes(include=['object']).columns.tolist()\n",
        "for i in item:\n",
        "  display(f'{i}_train: {df_train[i].nunique()}')\n",
        "  display(f'{i}_test: {df_test[i].nunique()}')"
      ],
      "metadata": {
        "id": "--Uy1aKa3hPf",
        "outputId": "2fb70aa9-3331-4d46-ba5f-5fbeba2d1b93",
        "colab": {
          "base_uri": "https://localhost:8080/",
          "height": 425
        }
      },
      "execution_count": 7,
      "outputs": [
        {
          "output_type": "display_data",
          "data": {
            "text/plain": [
              "'Gender_train: 2'"
            ],
            "application/vnd.google.colaboratory.intrinsic+json": {
              "type": "string"
            }
          },
          "metadata": {}
        },
        {
          "output_type": "display_data",
          "data": {
            "text/plain": [
              "'Gender_test: 2'"
            ],
            "application/vnd.google.colaboratory.intrinsic+json": {
              "type": "string"
            }
          },
          "metadata": {}
        },
        {
          "output_type": "display_data",
          "data": {
            "text/plain": [
              "'Marital Status_train: 3'"
            ],
            "application/vnd.google.colaboratory.intrinsic+json": {
              "type": "string"
            }
          },
          "metadata": {}
        },
        {
          "output_type": "display_data",
          "data": {
            "text/plain": [
              "'Marital Status_test: 3'"
            ],
            "application/vnd.google.colaboratory.intrinsic+json": {
              "type": "string"
            }
          },
          "metadata": {}
        },
        {
          "output_type": "display_data",
          "data": {
            "text/plain": [
              "'Education Level_train: 4'"
            ],
            "application/vnd.google.colaboratory.intrinsic+json": {
              "type": "string"
            }
          },
          "metadata": {}
        },
        {
          "output_type": "display_data",
          "data": {
            "text/plain": [
              "'Education Level_test: 4'"
            ],
            "application/vnd.google.colaboratory.intrinsic+json": {
              "type": "string"
            }
          },
          "metadata": {}
        },
        {
          "output_type": "display_data",
          "data": {
            "text/plain": [
              "'Occupation_train: 3'"
            ],
            "application/vnd.google.colaboratory.intrinsic+json": {
              "type": "string"
            }
          },
          "metadata": {}
        },
        {
          "output_type": "display_data",
          "data": {
            "text/plain": [
              "'Occupation_test: 3'"
            ],
            "application/vnd.google.colaboratory.intrinsic+json": {
              "type": "string"
            }
          },
          "metadata": {}
        },
        {
          "output_type": "display_data",
          "data": {
            "text/plain": [
              "'Location_train: 3'"
            ],
            "application/vnd.google.colaboratory.intrinsic+json": {
              "type": "string"
            }
          },
          "metadata": {}
        },
        {
          "output_type": "display_data",
          "data": {
            "text/plain": [
              "'Location_test: 3'"
            ],
            "application/vnd.google.colaboratory.intrinsic+json": {
              "type": "string"
            }
          },
          "metadata": {}
        },
        {
          "output_type": "display_data",
          "data": {
            "text/plain": [
              "'Policy Type_train: 3'"
            ],
            "application/vnd.google.colaboratory.intrinsic+json": {
              "type": "string"
            }
          },
          "metadata": {}
        },
        {
          "output_type": "display_data",
          "data": {
            "text/plain": [
              "'Policy Type_test: 3'"
            ],
            "application/vnd.google.colaboratory.intrinsic+json": {
              "type": "string"
            }
          },
          "metadata": {}
        },
        {
          "output_type": "display_data",
          "data": {
            "text/plain": [
              "'Policy Start Date_train: 167381'"
            ],
            "application/vnd.google.colaboratory.intrinsic+json": {
              "type": "string"
            }
          },
          "metadata": {}
        },
        {
          "output_type": "display_data",
          "data": {
            "text/plain": [
              "'Policy Start Date_test: 158776'"
            ],
            "application/vnd.google.colaboratory.intrinsic+json": {
              "type": "string"
            }
          },
          "metadata": {}
        },
        {
          "output_type": "display_data",
          "data": {
            "text/plain": [
              "'Customer Feedback_train: 3'"
            ],
            "application/vnd.google.colaboratory.intrinsic+json": {
              "type": "string"
            }
          },
          "metadata": {}
        },
        {
          "output_type": "display_data",
          "data": {
            "text/plain": [
              "'Customer Feedback_test: 3'"
            ],
            "application/vnd.google.colaboratory.intrinsic+json": {
              "type": "string"
            }
          },
          "metadata": {}
        },
        {
          "output_type": "display_data",
          "data": {
            "text/plain": [
              "'Smoking Status_train: 2'"
            ],
            "application/vnd.google.colaboratory.intrinsic+json": {
              "type": "string"
            }
          },
          "metadata": {}
        },
        {
          "output_type": "display_data",
          "data": {
            "text/plain": [
              "'Smoking Status_test: 2'"
            ],
            "application/vnd.google.colaboratory.intrinsic+json": {
              "type": "string"
            }
          },
          "metadata": {}
        },
        {
          "output_type": "display_data",
          "data": {
            "text/plain": [
              "'Exercise Frequency_train: 4'"
            ],
            "application/vnd.google.colaboratory.intrinsic+json": {
              "type": "string"
            }
          },
          "metadata": {}
        },
        {
          "output_type": "display_data",
          "data": {
            "text/plain": [
              "'Exercise Frequency_test: 4'"
            ],
            "application/vnd.google.colaboratory.intrinsic+json": {
              "type": "string"
            }
          },
          "metadata": {}
        },
        {
          "output_type": "display_data",
          "data": {
            "text/plain": [
              "'Property Type_train: 3'"
            ],
            "application/vnd.google.colaboratory.intrinsic+json": {
              "type": "string"
            }
          },
          "metadata": {}
        },
        {
          "output_type": "display_data",
          "data": {
            "text/plain": [
              "'Property Type_test: 3'"
            ],
            "application/vnd.google.colaboratory.intrinsic+json": {
              "type": "string"
            }
          },
          "metadata": {}
        }
      ]
    },
    {
      "cell_type": "code",
      "source": [
        "display(df_train.isnull().sum())\n",
        "display(df_test.isnull().sum() )"
      ],
      "metadata": {
        "id": "HjdOdB9_4Daf",
        "outputId": "f2ca65c7-0aa5-4686-c8c9-2c7776cda058",
        "colab": {
          "base_uri": "https://localhost:8080/",
          "height": 1000
        }
      },
      "execution_count": 8,
      "outputs": [
        {
          "output_type": "display_data",
          "data": {
            "text/plain": [
              "Age                      18705\n",
              "Gender                       0\n",
              "Annual Income            44949\n",
              "Marital Status           18529\n",
              "Number of Dependents    109672\n",
              "Education Level              0\n",
              "Occupation              358075\n",
              "Health Score             74076\n",
              "Location                     0\n",
              "Policy Type                  0\n",
              "Previous Claims         364029\n",
              "Vehicle Age                  6\n",
              "Credit Score            137882\n",
              "Insurance Duration           1\n",
              "Policy Start Date            0\n",
              "Customer Feedback        77824\n",
              "Smoking Status               0\n",
              "Exercise Frequency           0\n",
              "Property Type                0\n",
              "Premium Amount               0\n",
              "dtype: int64"
            ],
            "text/html": [
              "<div>\n",
              "<style scoped>\n",
              "    .dataframe tbody tr th:only-of-type {\n",
              "        vertical-align: middle;\n",
              "    }\n",
              "\n",
              "    .dataframe tbody tr th {\n",
              "        vertical-align: top;\n",
              "    }\n",
              "\n",
              "    .dataframe thead th {\n",
              "        text-align: right;\n",
              "    }\n",
              "</style>\n",
              "<table border=\"1\" class=\"dataframe\">\n",
              "  <thead>\n",
              "    <tr style=\"text-align: right;\">\n",
              "      <th></th>\n",
              "      <th>0</th>\n",
              "    </tr>\n",
              "  </thead>\n",
              "  <tbody>\n",
              "    <tr>\n",
              "      <th>Age</th>\n",
              "      <td>18705</td>\n",
              "    </tr>\n",
              "    <tr>\n",
              "      <th>Gender</th>\n",
              "      <td>0</td>\n",
              "    </tr>\n",
              "    <tr>\n",
              "      <th>Annual Income</th>\n",
              "      <td>44949</td>\n",
              "    </tr>\n",
              "    <tr>\n",
              "      <th>Marital Status</th>\n",
              "      <td>18529</td>\n",
              "    </tr>\n",
              "    <tr>\n",
              "      <th>Number of Dependents</th>\n",
              "      <td>109672</td>\n",
              "    </tr>\n",
              "    <tr>\n",
              "      <th>Education Level</th>\n",
              "      <td>0</td>\n",
              "    </tr>\n",
              "    <tr>\n",
              "      <th>Occupation</th>\n",
              "      <td>358075</td>\n",
              "    </tr>\n",
              "    <tr>\n",
              "      <th>Health Score</th>\n",
              "      <td>74076</td>\n",
              "    </tr>\n",
              "    <tr>\n",
              "      <th>Location</th>\n",
              "      <td>0</td>\n",
              "    </tr>\n",
              "    <tr>\n",
              "      <th>Policy Type</th>\n",
              "      <td>0</td>\n",
              "    </tr>\n",
              "    <tr>\n",
              "      <th>Previous Claims</th>\n",
              "      <td>364029</td>\n",
              "    </tr>\n",
              "    <tr>\n",
              "      <th>Vehicle Age</th>\n",
              "      <td>6</td>\n",
              "    </tr>\n",
              "    <tr>\n",
              "      <th>Credit Score</th>\n",
              "      <td>137882</td>\n",
              "    </tr>\n",
              "    <tr>\n",
              "      <th>Insurance Duration</th>\n",
              "      <td>1</td>\n",
              "    </tr>\n",
              "    <tr>\n",
              "      <th>Policy Start Date</th>\n",
              "      <td>0</td>\n",
              "    </tr>\n",
              "    <tr>\n",
              "      <th>Customer Feedback</th>\n",
              "      <td>77824</td>\n",
              "    </tr>\n",
              "    <tr>\n",
              "      <th>Smoking Status</th>\n",
              "      <td>0</td>\n",
              "    </tr>\n",
              "    <tr>\n",
              "      <th>Exercise Frequency</th>\n",
              "      <td>0</td>\n",
              "    </tr>\n",
              "    <tr>\n",
              "      <th>Property Type</th>\n",
              "      <td>0</td>\n",
              "    </tr>\n",
              "    <tr>\n",
              "      <th>Premium Amount</th>\n",
              "      <td>0</td>\n",
              "    </tr>\n",
              "  </tbody>\n",
              "</table>\n",
              "</div><br><label><b>dtype:</b> int64</label>"
            ]
          },
          "metadata": {}
        },
        {
          "output_type": "display_data",
          "data": {
            "text/plain": [
              "Age                      12489\n",
              "Gender                       0\n",
              "Annual Income            29860\n",
              "Marital Status           12336\n",
              "Number of Dependents     73130\n",
              "Education Level              0\n",
              "Occupation              239125\n",
              "Health Score             49449\n",
              "Location                     0\n",
              "Policy Type                  0\n",
              "Previous Claims         242802\n",
              "Vehicle Age                  3\n",
              "Credit Score             91451\n",
              "Insurance Duration           2\n",
              "Policy Start Date            0\n",
              "Customer Feedback        52276\n",
              "Smoking Status               0\n",
              "Exercise Frequency           0\n",
              "Property Type                0\n",
              "dtype: int64"
            ],
            "text/html": [
              "<div>\n",
              "<style scoped>\n",
              "    .dataframe tbody tr th:only-of-type {\n",
              "        vertical-align: middle;\n",
              "    }\n",
              "\n",
              "    .dataframe tbody tr th {\n",
              "        vertical-align: top;\n",
              "    }\n",
              "\n",
              "    .dataframe thead th {\n",
              "        text-align: right;\n",
              "    }\n",
              "</style>\n",
              "<table border=\"1\" class=\"dataframe\">\n",
              "  <thead>\n",
              "    <tr style=\"text-align: right;\">\n",
              "      <th></th>\n",
              "      <th>0</th>\n",
              "    </tr>\n",
              "  </thead>\n",
              "  <tbody>\n",
              "    <tr>\n",
              "      <th>Age</th>\n",
              "      <td>12489</td>\n",
              "    </tr>\n",
              "    <tr>\n",
              "      <th>Gender</th>\n",
              "      <td>0</td>\n",
              "    </tr>\n",
              "    <tr>\n",
              "      <th>Annual Income</th>\n",
              "      <td>29860</td>\n",
              "    </tr>\n",
              "    <tr>\n",
              "      <th>Marital Status</th>\n",
              "      <td>12336</td>\n",
              "    </tr>\n",
              "    <tr>\n",
              "      <th>Number of Dependents</th>\n",
              "      <td>73130</td>\n",
              "    </tr>\n",
              "    <tr>\n",
              "      <th>Education Level</th>\n",
              "      <td>0</td>\n",
              "    </tr>\n",
              "    <tr>\n",
              "      <th>Occupation</th>\n",
              "      <td>239125</td>\n",
              "    </tr>\n",
              "    <tr>\n",
              "      <th>Health Score</th>\n",
              "      <td>49449</td>\n",
              "    </tr>\n",
              "    <tr>\n",
              "      <th>Location</th>\n",
              "      <td>0</td>\n",
              "    </tr>\n",
              "    <tr>\n",
              "      <th>Policy Type</th>\n",
              "      <td>0</td>\n",
              "    </tr>\n",
              "    <tr>\n",
              "      <th>Previous Claims</th>\n",
              "      <td>242802</td>\n",
              "    </tr>\n",
              "    <tr>\n",
              "      <th>Vehicle Age</th>\n",
              "      <td>3</td>\n",
              "    </tr>\n",
              "    <tr>\n",
              "      <th>Credit Score</th>\n",
              "      <td>91451</td>\n",
              "    </tr>\n",
              "    <tr>\n",
              "      <th>Insurance Duration</th>\n",
              "      <td>2</td>\n",
              "    </tr>\n",
              "    <tr>\n",
              "      <th>Policy Start Date</th>\n",
              "      <td>0</td>\n",
              "    </tr>\n",
              "    <tr>\n",
              "      <th>Customer Feedback</th>\n",
              "      <td>52276</td>\n",
              "    </tr>\n",
              "    <tr>\n",
              "      <th>Smoking Status</th>\n",
              "      <td>0</td>\n",
              "    </tr>\n",
              "    <tr>\n",
              "      <th>Exercise Frequency</th>\n",
              "      <td>0</td>\n",
              "    </tr>\n",
              "    <tr>\n",
              "      <th>Property Type</th>\n",
              "      <td>0</td>\n",
              "    </tr>\n",
              "  </tbody>\n",
              "</table>\n",
              "</div><br><label><b>dtype:</b> int64</label>"
            ]
          },
          "metadata": {}
        }
      ]
    },
    {
      "cell_type": "code",
      "source": [
        "df_train.drop(columns='Policy Start Date', inplace=True)\n",
        "df_test.drop(columns='Policy Start Date', inplace=True)\n",
        "\n",
        "cat_col = df_train.select_dtypes(include=['object']).columns.tolist()\n",
        "num_col = df_train.select_dtypes(exclude=['object']).columns.tolist()[:-1]"
      ],
      "metadata": {
        "id": "Jblte61Q6G9r"
      },
      "execution_count": 9,
      "outputs": []
    },
    {
      "cell_type": "code",
      "source": [
        "item = df_train.select_dtypes(include=['object']).columns.tolist()\n",
        "for i in item:\n",
        "  display(f'{i}_train: {df_train[i].nunique()}')\n",
        "  display(f'{i}_test: {df_test[i].nunique()}')"
      ],
      "metadata": {
        "id": "LOlcPC-R_-Qp",
        "outputId": "ac2194d5-11ec-4c73-9e30-984742edcae9",
        "colab": {
          "base_uri": "https://localhost:8080/",
          "height": 388
        }
      },
      "execution_count": 10,
      "outputs": [
        {
          "output_type": "display_data",
          "data": {
            "text/plain": [
              "'Gender_train: 2'"
            ],
            "application/vnd.google.colaboratory.intrinsic+json": {
              "type": "string"
            }
          },
          "metadata": {}
        },
        {
          "output_type": "display_data",
          "data": {
            "text/plain": [
              "'Gender_test: 2'"
            ],
            "application/vnd.google.colaboratory.intrinsic+json": {
              "type": "string"
            }
          },
          "metadata": {}
        },
        {
          "output_type": "display_data",
          "data": {
            "text/plain": [
              "'Marital Status_train: 3'"
            ],
            "application/vnd.google.colaboratory.intrinsic+json": {
              "type": "string"
            }
          },
          "metadata": {}
        },
        {
          "output_type": "display_data",
          "data": {
            "text/plain": [
              "'Marital Status_test: 3'"
            ],
            "application/vnd.google.colaboratory.intrinsic+json": {
              "type": "string"
            }
          },
          "metadata": {}
        },
        {
          "output_type": "display_data",
          "data": {
            "text/plain": [
              "'Education Level_train: 4'"
            ],
            "application/vnd.google.colaboratory.intrinsic+json": {
              "type": "string"
            }
          },
          "metadata": {}
        },
        {
          "output_type": "display_data",
          "data": {
            "text/plain": [
              "'Education Level_test: 4'"
            ],
            "application/vnd.google.colaboratory.intrinsic+json": {
              "type": "string"
            }
          },
          "metadata": {}
        },
        {
          "output_type": "display_data",
          "data": {
            "text/plain": [
              "'Occupation_train: 3'"
            ],
            "application/vnd.google.colaboratory.intrinsic+json": {
              "type": "string"
            }
          },
          "metadata": {}
        },
        {
          "output_type": "display_data",
          "data": {
            "text/plain": [
              "'Occupation_test: 3'"
            ],
            "application/vnd.google.colaboratory.intrinsic+json": {
              "type": "string"
            }
          },
          "metadata": {}
        },
        {
          "output_type": "display_data",
          "data": {
            "text/plain": [
              "'Location_train: 3'"
            ],
            "application/vnd.google.colaboratory.intrinsic+json": {
              "type": "string"
            }
          },
          "metadata": {}
        },
        {
          "output_type": "display_data",
          "data": {
            "text/plain": [
              "'Location_test: 3'"
            ],
            "application/vnd.google.colaboratory.intrinsic+json": {
              "type": "string"
            }
          },
          "metadata": {}
        },
        {
          "output_type": "display_data",
          "data": {
            "text/plain": [
              "'Policy Type_train: 3'"
            ],
            "application/vnd.google.colaboratory.intrinsic+json": {
              "type": "string"
            }
          },
          "metadata": {}
        },
        {
          "output_type": "display_data",
          "data": {
            "text/plain": [
              "'Policy Type_test: 3'"
            ],
            "application/vnd.google.colaboratory.intrinsic+json": {
              "type": "string"
            }
          },
          "metadata": {}
        },
        {
          "output_type": "display_data",
          "data": {
            "text/plain": [
              "'Customer Feedback_train: 3'"
            ],
            "application/vnd.google.colaboratory.intrinsic+json": {
              "type": "string"
            }
          },
          "metadata": {}
        },
        {
          "output_type": "display_data",
          "data": {
            "text/plain": [
              "'Customer Feedback_test: 3'"
            ],
            "application/vnd.google.colaboratory.intrinsic+json": {
              "type": "string"
            }
          },
          "metadata": {}
        },
        {
          "output_type": "display_data",
          "data": {
            "text/plain": [
              "'Smoking Status_train: 2'"
            ],
            "application/vnd.google.colaboratory.intrinsic+json": {
              "type": "string"
            }
          },
          "metadata": {}
        },
        {
          "output_type": "display_data",
          "data": {
            "text/plain": [
              "'Smoking Status_test: 2'"
            ],
            "application/vnd.google.colaboratory.intrinsic+json": {
              "type": "string"
            }
          },
          "metadata": {}
        },
        {
          "output_type": "display_data",
          "data": {
            "text/plain": [
              "'Exercise Frequency_train: 4'"
            ],
            "application/vnd.google.colaboratory.intrinsic+json": {
              "type": "string"
            }
          },
          "metadata": {}
        },
        {
          "output_type": "display_data",
          "data": {
            "text/plain": [
              "'Exercise Frequency_test: 4'"
            ],
            "application/vnd.google.colaboratory.intrinsic+json": {
              "type": "string"
            }
          },
          "metadata": {}
        },
        {
          "output_type": "display_data",
          "data": {
            "text/plain": [
              "'Property Type_train: 3'"
            ],
            "application/vnd.google.colaboratory.intrinsic+json": {
              "type": "string"
            }
          },
          "metadata": {}
        },
        {
          "output_type": "display_data",
          "data": {
            "text/plain": [
              "'Property Type_test: 3'"
            ],
            "application/vnd.google.colaboratory.intrinsic+json": {
              "type": "string"
            }
          },
          "metadata": {}
        }
      ]
    },
    {
      "cell_type": "code",
      "source": [
        "plt.figure(figsize=(10,10))\n",
        "sns.heatmap(df_train[num_col].corr(), annot=True)"
      ],
      "metadata": {
        "id": "V5gJIa3a6JOq",
        "outputId": "9a6e0f52-57b1-4261-e9b5-11f0984848b2",
        "colab": {
          "base_uri": "https://localhost:8080/",
          "height": 796
        }
      },
      "execution_count": 11,
      "outputs": [
        {
          "output_type": "execute_result",
          "data": {
            "text/plain": [
              "<Axes: >"
            ]
          },
          "metadata": {},
          "execution_count": 11
        },
        {
          "output_type": "display_data",
          "data": {
            "text/plain": [
              "<Figure size 1000x1000 with 2 Axes>"
            ],
            "image/png": "[encoded data removed]"
          },
          "metadata": {}
        }
      ]
    },
    {
      "cell_type": "code",
      "source": [
        "plt.figure(figsize=(10,10))\n",
        "i=1\n",
        "for col in num_col:\n",
        "  plt.subplot(5,2,i)\n",
        "  sns.histplot(df_train[col], kde=True)\n",
        "  i+=1\n",
        "  plt.xlabel(f'distribution of {col}')\n",
        "  plt.tight_layout()\n",
        "\n"
      ],
      "metadata": {
        "id": "rTutYNwc6Rxb",
        "outputId": "6b2e09a1-3ca4-40be-998a-a2f778d77b57",
        "colab": {
          "base_uri": "https://localhost:8080/",
          "height": 630
        }
      },
      "execution_count": 12,
      "outputs": [
        {
          "output_type": "display_data",
          "data": {
            "text/plain": [
              "<Figure size 1000x1000 with 8 Axes>"
            ],
            "image/png": "[encoded data removed]"
          },
          "metadata": {}
        }
      ]
    },
    {
      "cell_type": "code",
      "source": [
        "# plt.figure(figsize=(10,10))\n",
        "# i=1\n",
        "# for col in cat_col:\n",
        "#   plt.subplot(5,2,i)\n",
        "#   sns.countplot(df_train[col])\n",
        "#   i+=1\n",
        "#   plt.xlabel(f'distribution of {col}')\n",
        "#   plt.tight_layout()\n",
        "\n"
      ],
      "metadata": {
        "id": "4gbzkEMk7Ogm"
      },
      "execution_count": 13,
      "outputs": []
    },
    {
      "cell_type": "code",
      "source": [
        "plt.figure(figsize=(12,10))\n",
        "for i,col in enumerate(num_col):\n",
        "  plt.subplot(3,4,i+1)\n",
        "  sns.boxplot(x=df_train[col])\n",
        "  plt.title(f\"Box plot of {col}\")\n",
        "  plt.tight_layout()\n",
        "plt.show()"
      ],
      "metadata": {
        "id": "GAbmEuTD8bPW",
        "outputId": "23dbbd62-b210-49ae-b6fa-263bdccd0361",
        "colab": {
          "base_uri": "https://localhost:8080/",
          "height": 442
        }
      },
      "execution_count": 14,
      "outputs": [
        {
          "output_type": "display_data",
          "data": {
            "text/plain": [
              "<Figure size 1200x1000 with 8 Axes>"
            ],
            "image/png": "[encoded data removed]"
          },
          "metadata": {}
        }
      ]
    },
    {
      "cell_type": "code",
      "source": [
        "\n",
        "def remove_outliers(df, column):\n",
        "    Q1 = df[column].quantile(0.25)\n",
        "    Q3 = df[column].quantile(0.75)\n",
        "    IQR = Q3 - Q1\n",
        "    lower_bound = Q1 - 1.5 * IQR\n",
        "    upper_bound = Q3 + 1.5 * IQR\n",
        "    df_filtered = df[(df[column] >= lower_bound) & (df[column] <= upper_bound)]\n",
        "    return df_filtered\n",
        "\n",
        "# Example usage for all numerical columns\n",
        "for col in num_col:\n",
        "    df_train = remove_outliers(df_train, col)"
      ],
      "metadata": {
        "id": "NoDtcbQJ9Wdf"
      },
      "execution_count": 15,
      "outputs": []
    },
    {
      "cell_type": "code",
      "source": [
        "num_col"
      ],
      "metadata": {
        "id": "YnYHct4fBVuf",
        "outputId": "412ee224-b279-455b-e90d-26845906420f",
        "colab": {
          "base_uri": "https://localhost:8080/"
        }
      },
      "execution_count": 16,
      "outputs": [
        {
          "output_type": "execute_result",
          "data": {
            "text/plain": [
              "['Age',\n",
              " 'Annual Income',\n",
              " 'Number of Dependents',\n",
              " 'Health Score',\n",
              " 'Previous Claims',\n",
              " 'Vehicle Age',\n",
              " 'Credit Score',\n",
              " 'Insurance Duration']"
            ]
          },
          "metadata": {},
          "execution_count": 16
        }
      ]
    },
    {
      "cell_type": "code",
      "source": [
        "# replace all missing values\n",
        "\n",
        "# from sklearn.impute import SimpleImputer\n",
        "\n",
        "def impute_missing_values(df_train, df_test, num_col, cat_col):\n",
        "    num_imputer = SimpleImputer(strategy='mean')\n",
        "    df_train[num_col] = num_imputer.fit_transform(df_train[num_col])\n",
        "    df_test[num_col] = num_imputer.transform(df_test[num_col])\n",
        "\n",
        "    cat_imputer = SimpleImputer(strategy='most_frequent')\n",
        "    df_train[cat_col] = cat_imputer.fit_transform(df_train[cat_col])\n",
        "    df_test[cat_col] = cat_imputer.transform(df_test[cat_col])\n",
        "    return df_train, df_test\n",
        "\n",
        "df_train, df_test = impute_missing_values(df_train, df_test, num_col, cat_col)\n"
      ],
      "metadata": {
        "id": "7lkw_y5X9ny_"
      },
      "execution_count": 19,
      "outputs": []
    },
    {
      "cell_type": "code",
      "source": [
        "\n",
        "def label_encode_categorical(df_train, df_test, cat_col):\n",
        "    label_encoder = LabelEncoder()\n",
        "    for col in cat_col:\n",
        "        df_train[col] = label_encoder.fit_transform(df_train[col])\n",
        "        df_test[col] = label_encoder.transform(df_test[col])\n",
        "    return df_train, df_test\n",
        "\n",
        "df_train, df_test = label_encode_categorical(df_train, df_test, cat_col)"
      ],
      "metadata": {
        "id": "xY1HhcxNAzik"
      },
      "execution_count": 20,
      "outputs": []
    },
    {
      "cell_type": "code",
      "source": [
        "\n",
        "def num_scaler(df_train, df_test, num_col):\n",
        "  scaler = StandardScaler()\n",
        "  df_train[num_col] = scaler.fit_transform(df_train[num_col])\n",
        "  df_test[num_col] = scaler.transform(df_test[num_col])\n",
        "  return df_train, df_test\n",
        "\n",
        "df_train, df_test = num_scaler(df_train, df_test, num_col)"
      ],
      "metadata": {
        "id": "2OsQsXAEFewy"
      },
      "execution_count": 21,
      "outputs": []
    },
    {
      "cell_type": "code",
      "source": [
        "\n",
        "\n",
        "X = df_train.drop(columns='Premium Amount')\n",
        "y = df_train['Premium Amount']\n",
        "\n",
        "X_train, X_val, y_train, y_val = train_test_split(X, y, test_size=0.2, random_state=42)"
      ],
      "metadata": {
        "id": "n1gbh4jbGlFL"
      },
      "execution_count": 22,
      "outputs": []
    },
    {
      "cell_type": "code",
      "source": [
        "\n",
        "\n",
        "\n",
        "# from sklearn.metrics import mean_squared_error, mean_absolute_error, r2_score"
      ],
      "metadata": {
        "id": "aQWFM1LfGsrO"
      },
      "execution_count": 36,
      "outputs": []
    },
    {
      "cell_type": "code",
      "source": [],
      "metadata": {
        "id": "pHKMujCMHu3_"
      },
      "execution_count": 25,
      "outputs": []
    },
    {
      "cell_type": "code",
      "source": [
        "# rfr = RandomForestRegressor()\n",
        "lgbm = LGBMRegressor(n_estimators =500,\n",
        "                    learning_rate =0.1)"
      ],
      "metadata": {
        "id": "DYtTnPoiIZph"
      },
      "execution_count": 39,
      "outputs": []
    },
    {
      "cell_type": "code",
      "source": [
        "def evaluate_model(model, X_train, X_val, y_train, y_val):\n",
        "    model.fit(X_train, y_train)\n",
        "    y_pred = model.predict(X_val)\n",
        "\n",
        "    print(f'MAE for {model}: {mean_absolute_error(y_val, y_pred)}')\n",
        "    print(f'RMSE for {model}: {np.sqrt(mean_squared_error(y_val, y_pred))}')\n",
        "    print(f'R2 for {model}: {r2_score(y_val, y_pred)}')"
      ],
      "metadata": {
        "id": "BXm8eiOGH0vj"
      },
      "execution_count": 40,
      "outputs": []
    },
    {
      "cell_type": "code",
      "source": [
        "# rfr = RandomForestRegressor()\n",
        "# rfr.fit(X_train, y_train)\n",
        "# y_pred = rfr.predict(X_val)\n",
        "# # print(f'MSE: {mean_squared_error(y_val, y_pred)}')\n",
        "# print(f'MAE: {mean_absolute_error(y_val, y_pred)}')\n",
        "# print(f'RMSE: {np.sqrt(mean_squared_error(y_val, y_pred))}')\n",
        "# print(f'R2: {r2_score(y_val, y_pred)}')"
      ],
      "metadata": {
        "id": "pKrARIwGG2YE"
      },
      "execution_count": 28,
      "outputs": []
    },
    {
      "cell_type": "code",
      "source": [
        "# evaluate_model(rfr, X_train, X_val, y_train, y_val)"
      ],
      "metadata": {
        "id": "mikJKFlvHhy2"
      },
      "execution_count": 33,
      "outputs": []
    },
    {
      "cell_type": "code",
      "source": [
        "evaluate_model(lgbm, X_train, X_val, y_train, y_val)"
      ],
      "metadata": {
        "id": "dJjkDQ7QIsr5",
        "outputId": "4be9084b-5425-4839-f2fa-f1af5a396c02",
        "colab": {
          "base_uri": "https://localhost:8080/"
        }
      },
      "execution_count": 41,
      "outputs": [
        {
          "output_type": "stream",
          "name": "stdout",
          "text": [
            "[LightGBM] [Warning] Found whitespace in feature_names, replace with underlines\n",
            "[LightGBM] [Info] Auto-choosing row-wise multi-threading, the overhead of testing was 0.026986 seconds.\n",
            "You can set `force_row_wise=true` to remove the overhead.\n",
            "And if memory is not enough, you can set `force_col_wise=true`.\n",
            "[LightGBM] [Info] Total Bins 883\n",
            "[LightGBM] [Info] Number of data points in the train set: 446688, number of used features: 18\n",
            "[LightGBM] [Info] Start training from score 1113.624499\n",
            "MAE for LGBMRegressor(n_estimators=500): 640.9740201613527\n",
            "RMSE for LGBMRegressor(n_estimators=500): 839.680927807293\n",
            "R2 for LGBMRegressor(n_estimators=500): 0.031365083172634756\n"
          ]
        }
      ]
    },
    {
      "cell_type": "code",
      "source": [
        "from sklearn.model_selection import KFold\n",
        "k = KFold(n_splits=5)"
      ],
      "metadata": {
        "id": "YjgopcnHIwJ2"
      },
      "execution_count": 51,
      "outputs": []
    },
    {
      "cell_type": "code",
      "source": [
        "param_grid = {\n",
        "    'learning_rate': [0.01, 0.05],\n",
        "    'n_estimators': [250, 500],\n",
        "    'num_leaves': [20, 30, 40],\n",
        "    'max_depth': [10, 20, 30],\n",
        "}\n",
        "\n",
        "grid_search = GridSearchCV(\n",
        "    estimator=lgbm,\n",
        "    param_grid=param_grid,\n",
        "    scoring=accuracy_score,\n",
        "    cv=k,\n",
        "    verbose=2,\n",
        "    n_jobs=-1\n",
        ")"
      ],
      "metadata": {
        "id": "vzLoqufALxgt"
      },
      "execution_count": 52,
      "outputs": []
    },
    {
      "cell_type": "code",
      "source": [
        "grid_search.fit(X_train, y_train)\n",
        "\n",
        "print(f\"Best parameters: {grid_search.best_params_}\")\n",
        "print(f\"Best score: {grid_search.best_score_}\")"
      ],
      "metadata": {
        "id": "oZ60CHg2MqEu",
        "outputId": "c8842896-2c39-4d9a-af1b-4bc42dfd47e2",
        "colab": {
          "base_uri": "https://localhost:8080/"
        }
      },
      "execution_count": null,
      "outputs": [
        {
          "output_type": "stream",
          "name": "stdout",
          "text": [
            "Fitting 5 folds for each of 36 candidates, totalling 180 fits\n"
          ]
        },
        {
          "output_type": "stream",
          "name": "stderr",
          "text": [
            "/usr/local/lib/python3.10/dist-packages/sklearn/utils/_tags.py:354: FutureWarning: The LGBMRegressor or classes from which it inherits use `_get_tags` and `_more_tags`. Please define the `__sklearn_tags__` method, or inherit from `sklearn.base.BaseEstimator` and/or other appropriate mixins such as `sklearn.base.TransformerMixin`, `sklearn.base.ClassifierMixin`, `sklearn.base.RegressorMixin`, and `sklearn.base.OutlierMixin`. From scikit-learn 1.7, not defining `__sklearn_tags__` will raise an error.\n",
            "  warnings.warn(\n"
          ]
        }
      ]
    },
    {
      "cell_type": "code",
      "source": [],
      "metadata": {
        "id": "AU00DJt7Q0hw"
      },
      "execution_count": null,
      "outputs": []
    },
    {
      "cell_type": "markdown",
      "source": [
        "## Submission"
      ],
      "metadata": {
        "id": "jReAMT70N4Hl"
      }
    },
    {
      "cell_type": "code",
      "source": [
        "df_test['Age']"
      ],
      "metadata": {
        "id": "Q7V6nMJGPNjM",
        "outputId": "355f01ab-5343-4d3f-e94c-321afa9f7852",
        "colab": {
          "base_uri": "https://localhost:8080/",
          "height": 490
        }
      },
      "execution_count": 48,
      "outputs": [
        {
          "output_type": "execute_result",
          "data": {
            "text/plain": [
              "id\n",
              "1200000   -0.969769\n",
              "1200001   -0.748240\n",
              "1200002    0.433245\n",
              "1200003   -0.969769\n",
              "1200004   -1.265140\n",
              "             ...   \n",
              "1999995    0.654773\n",
              "1999996    0.000000\n",
              "1999997   -1.117454\n",
              "1999998   -0.526712\n",
              "1999999   -1.191297\n",
              "Name: Age, Length: 800000, dtype: float64"
            ],
            "text/html": [
              "<div>\n",
              "<style scoped>\n",
              "    .dataframe tbody tr th:only-of-type {\n",
              "        vertical-align: middle;\n",
              "    }\n",
              "\n",
              "    .dataframe tbody tr th {\n",
              "        vertical-align: top;\n",
              "    }\n",
              "\n",
              "    .dataframe thead th {\n",
              "        text-align: right;\n",
              "    }\n",
              "</style>\n",
              "<table border=\"1\" class=\"dataframe\">\n",
              "  <thead>\n",
              "    <tr style=\"text-align: right;\">\n",
              "      <th></th>\n",
              "      <th>Age</th>\n",
              "    </tr>\n",
              "    <tr>\n",
              "      <th>id</th>\n",
              "      <th></th>\n",
              "    </tr>\n",
              "  </thead>\n",
              "  <tbody>\n",
              "    <tr>\n",
              "      <th>1200000</th>\n",
              "      <td>-0.969769</td>\n",
              "    </tr>\n",
              "    <tr>\n",
              "      <th>1200001</th>\n",
              "      <td>-0.748240</td>\n",
              "    </tr>\n",
              "    <tr>\n",
              "      <th>1200002</th>\n",
              "      <td>0.433245</td>\n",
              "    </tr>\n",
              "    <tr>\n",
              "      <th>1200003</th>\n",
              "      <td>-0.969769</td>\n",
              "    </tr>\n",
              "    <tr>\n",
              "      <th>1200004</th>\n",
              "      <td>-1.265140</td>\n",
              "    </tr>\n",
              "    <tr>\n",
              "      <th>...</th>\n",
              "      <td>...</td>\n",
              "    </tr>\n",
              "    <tr>\n",
              "      <th>1999995</th>\n",
              "      <td>0.654773</td>\n",
              "    </tr>\n",
              "    <tr>\n",
              "      <th>1999996</th>\n",
              "      <td>0.000000</td>\n",
              "    </tr>\n",
              "    <tr>\n",
              "      <th>1999997</th>\n",
              "      <td>-1.117454</td>\n",
              "    </tr>\n",
              "    <tr>\n",
              "      <th>1999998</th>\n",
              "      <td>-0.526712</td>\n",
              "    </tr>\n",
              "    <tr>\n",
              "      <th>1999999</th>\n",
              "      <td>-1.191297</td>\n",
              "    </tr>\n",
              "  </tbody>\n",
              "</table>\n",
              "<p>800000 rows × 1 columns</p>\n",
              "</div><br><label><b>dtype:</b> float64</label>"
            ]
          },
          "metadata": {},
          "execution_count": 48
        }
      ]
    },
    {
      "cell_type": "code",
      "source": [
        "prediction = lgbm.predict(df_test)"
      ],
      "metadata": {
        "id": "gTuut01ZMy2l"
      },
      "execution_count": 42,
      "outputs": []
    },
    {
      "cell_type": "code",
      "source": [
        "res = pd.DataFrame({\"id\":df_test.index,\n",
        "                   \"Premium Amount\":prediction})\n",
        "res = res.set_index(\"id\")\n",
        "res"
      ],
      "metadata": {
        "id": "3LNTzCT3N3Hh",
        "outputId": "670e3eb0-1ea7-4d50-e29b-876170fb721d",
        "colab": {
          "base_uri": "https://localhost:8080/",
          "height": 455
        }
      },
      "execution_count": 49,
      "outputs": [
        {
          "output_type": "execute_result",
          "data": {
            "text/plain": [
              "         Premium Amount\n",
              "id                     \n",
              "1200000     1348.189217\n",
              "1200001     1113.173993\n",
              "1200002     1119.285551\n",
              "1200003     1098.321341\n",
              "1200004     1021.441075\n",
              "...                 ...\n",
              "1999995     1388.777266\n",
              "1999996     1567.981468\n",
              "1999997     1089.113048\n",
              "1999998     1085.108776\n",
              "1999999     1073.473644\n",
              "\n",
              "[800000 rows x 1 columns]"
            ],
            "text/html": [
              "\n",
              "  <div id=\"df-7a849c8a-9839-4249-a035-2c1608e1b80e\" class=\"colab-df-container\">\n",
              "    <div>\n",
              "<style scoped>\n",
              "    .dataframe tbody tr th:only-of-type {\n",
              "        vertical-align: middle;\n",
              "    }\n",
              "\n",
              "    .dataframe tbody tr th {\n",
              "        vertical-align: top;\n",
              "    }\n",
              "\n",
              "    .dataframe thead th {\n",
              "        text-align: right;\n",
              "    }\n",
              "</style>\n",
              "<table border=\"1\" class=\"dataframe\">\n",
              "  <thead>\n",
              "    <tr style=\"text-align: right;\">\n",
              "      <th></th>\n",
              "      <th>Premium Amount</th>\n",
              "    </tr>\n",
              "    <tr>\n",
              "      <th>id</th>\n",
              "      <th></th>\n",
              "    </tr>\n",
              "  </thead>\n",
              "  <tbody>\n",
              "    <tr>\n",
              "      <th>1200000</th>\n",
              "      <td>1348.189217</td>\n",
              "    </tr>\n",
              "    <tr>\n",
              "      <th>1200001</th>\n",
              "      <td>1113.173993</td>\n",
              "    </tr>\n",
              "    <tr>\n",
              "      <th>1200002</th>\n",
              "      <td>1119.285551</td>\n",
              "    </tr>\n",
              "    <tr>\n",
              "      <th>1200003</th>\n",
              "      <td>1098.321341</td>\n",
              "    </tr>\n",
              "    <tr>\n",
              "      <th>1200004</th>\n",
              "      <td>1021.441075</td>\n",
              "    </tr>\n",
              "    <tr>\n",
              "      <th>...</th>\n",
              "      <td>...</td>\n",
              "    </tr>\n",
              "    <tr>\n",
              "      <th>1999995</th>\n",
              "      <td>1388.777266</td>\n",
              "    </tr>\n",
              "    <tr>\n",
              "      <th>1999996</th>\n",
              "      <td>1567.981468</td>\n",
              "    </tr>\n",
              "    <tr>\n",
              "      <th>1999997</th>\n",
              "      <td>1089.113048</td>\n",
              "    </tr>\n",
              "    <tr>\n",
              "      <th>1999998</th>\n",
              "      <td>1085.108776</td>\n",
              "    </tr>\n",
              "    <tr>\n",
              "      <th>1999999</th>\n",
              "      <td>1073.473644</td>\n",
              "    </tr>\n",
              "  </tbody>\n",
              "</table>\n",
              "<p>800000 rows × 1 columns</p>\n",
              "</div>\n",
              "    <div class=\"colab-df-buttons\">\n",
              "\n",
              "  <div class=\"colab-df-container\">\n",
              "    <button class=\"colab-df-convert\" onclick=\"convertToInteractive('df-7a849c8a-9839-4249-a035-2c1608e1b80e')\"\n",
              "            title=\"Convert this dataframe to an interactive table.\"\n",
              "            style=\"display:none;\">\n",
              "\n",
              "  <svg xmlns=\"http://www.w3.org/2000/svg\" height=\"24px\" viewBox=\"0 -960 960 960\">\n",
              "    <path d=\"M120-120v-720h720v720H120Zm60-500h600v-160H180v160Zm220 220h160v-160H400v160Zm0 220h160v-160H400v160ZM180-400h160v-160H180v160Zm440 0h160v-160H620v160ZM180-180h160v-160H180v160Zm440 0h160v-160H620v160Z\"/>\n",
              "  </svg>\n",
              "    </button>\n",
              "\n",
              "  <style>\n",
              "    .colab-df-container {\n",
              "      display:flex;\n",
              "      gap: 12px;\n",
              "    }\n",
              "\n",
              "    .colab-df-convert {\n",
              "      background-color: #E8F0FE;\n",
              "      border: none;\n",
              "      border-radius: 50%;\n",
              "      cursor: pointer;\n",
              "      display: none;\n",
              "      fill: #1967D2;\n",
              "      height: 32px;\n",
              "      padding: 0 0 0 0;\n",
              "      width: 32px;\n",
              "    }\n",
              "\n",
              "    .colab-df-convert:hover {\n",
              "      background-color: #E2EBFA;\n",
              "      box-shadow: 0px 1px 2px rgba(60, 64, 67, 0.3), 0px 1px 3px 1px rgba(60, 64, 67, 0.15);\n",
              "      fill: #174EA6;\n",
              "    }\n",
              "\n",
              "    .colab-df-buttons div {\n",
              "      margin-bottom: 4px;\n",
              "    }\n",
              "\n",
              "    [theme=dark] .colab-df-convert {\n",
              "      background-color: #3B4455;\n",
              "      fill: #D2E3FC;\n",
              "    }\n",
              "\n",
              "    [theme=dark] .colab-df-convert:hover {\n",
              "      background-color: #434B5C;\n",
              "      box-shadow: 0px 1px 3px 1px rgba(0, 0, 0, 0.15);\n",
              "      filter: drop-shadow(0px 1px 2px rgba(0, 0, 0, 0.3));\n",
              "      fill: #FFFFFF;\n",
              "    }\n",
              "  </style>\n",
              "\n",
              "    <script>\n",
              "      const buttonEl =\n",
              "        document.querySelector('#df-7a849c8a-9839-4249-a035-2c1608e1b80e button.colab-df-convert');\n",
              "      buttonEl.style.display =\n",
              "        google.colab.kernel.accessAllowed ? 'block' : 'none';\n",
              "\n",
              "      async function convertToInteractive(key) {\n",
              "        const element = document.querySelector('#df-7a849c8a-9839-4249-a035-2c1608e1b80e');\n",
              "        const dataTable =\n",
              "          await google.colab.kernel.invokeFunction('convertToInteractive',\n",
              "                                                    [key], {});\n",
              "        if (!dataTable) return;\n",
              "\n",
              "        const docLinkHtml = 'Like what you see? Visit the ' +\n",
              "          '<a target=\"_blank\" href=https://colab.research.google.com/notebooks/data_table.ipynb>data table notebook</a>'\n",
              "          + ' to learn more about interactive tables.';\n",
              "        element.innerHTML = '';\n",
              "        dataTable['output_type'] = 'display_data';\n",
              "        await google.colab.output.renderOutput(dataTable, element);\n",
              "        const docLink = document.createElement('div');\n",
              "        docLink.innerHTML = docLinkHtml;\n",
              "        element.appendChild(docLink);\n",
              "      }\n",
              "    </script>\n",
              "  </div>\n",
              "\n",
              "\n",
              "<div id=\"df-096a7ff2-07ab-4f71-85ae-c72bc7c5ec66\">\n",
              "  <button class=\"colab-df-quickchart\" onclick=\"quickchart('df-096a7ff2-07ab-4f71-85ae-c72bc7c5ec66')\"\n",
              "            title=\"Suggest charts\"\n",
              "            style=\"display:none;\">\n",
              "\n",
              "<svg xmlns=\"http://www.w3.org/2000/svg\" height=\"24px\"viewBox=\"0 0 24 24\"\n",
              "     width=\"24px\">\n",
              "    <g>\n",
              "        <path d=\"M19 3H5c-1.1 0-2 .9-2 2v14c0 1.1.9 2 2 2h14c1.1 0 2-.9 2-2V5c0-1.1-.9-2-2-2zM9 17H7v-7h2v7zm4 0h-2V7h2v10zm4 0h-2v-4h2v4z\"/>\n",
              "    </g>\n",
              "</svg>\n",
              "  </button>\n",
              "\n",
              "<style>\n",
              "  .colab-df-quickchart {\n",
              "      --bg-color: #E8F0FE;\n",
              "      --fill-color: #1967D2;\n",
              "      --hover-bg-color: #E2EBFA;\n",
              "      --hover-fill-color: #174EA6;\n",
              "      --disabled-fill-color: #AAA;\n",
              "      --disabled-bg-color: #DDD;\n",
              "  }\n",
              "\n",
              "  [theme=dark] .colab-df-quickchart {\n",
              "      --bg-color: #3B4455;\n",
              "      --fill-color: #D2E3FC;\n",
              "      --hover-bg-color: #434B5C;\n",
              "      --hover-fill-color: #FFFFFF;\n",
              "      --disabled-bg-color: #3B4455;\n",
              "      --disabled-fill-color: #666;\n",
              "  }\n",
              "\n",
              "  .colab-df-quickchart {\n",
              "    background-color: var(--bg-color);\n",
              "    border: none;\n",
              "    border-radius: 50%;\n",
              "    cursor: pointer;\n",
              "    display: none;\n",
              "    fill: var(--fill-color);\n",
              "    height: 32px;\n",
              "    padding: 0;\n",
              "    width: 32px;\n",
              "  }\n",
              "\n",
              "  .colab-df-quickchart:hover {\n",
              "    background-color: var(--hover-bg-color);\n",
              "    box-shadow: 0 1px 2px rgba(60, 64, 67, 0.3), 0 1px 3px 1px rgba(60, 64, 67, 0.15);\n",
              "    fill: var(--button-hover-fill-color);\n",
              "  }\n",
              "\n",
              "  .colab-df-quickchart-complete:disabled,\n",
              "  .colab-df-quickchart-complete:disabled:hover {\n",
              "    background-color: var(--disabled-bg-color);\n",
              "    fill: var(--disabled-fill-color);\n",
              "    box-shadow: none;\n",
              "  }\n",
              "\n",
              "  .colab-df-spinner {\n",
              "    border: 2px solid var(--fill-color);\n",
              "    border-color: transparent;\n",
              "    border-bottom-color: var(--fill-color);\n",
              "    animation:\n",
              "      spin 1s steps(1) infinite;\n",
              "  }\n",
              "\n",
              "  @keyframes spin {\n",
              "    0% {\n",
              "      border-color: transparent;\n",
              "      border-bottom-color: var(--fill-color);\n",
              "      border-left-color: var(--fill-color);\n",
              "    }\n",
              "    20% {\n",
              "      border-color: transparent;\n",
              "      border-left-color: var(--fill-color);\n",
              "      border-top-color: var(--fill-color);\n",
              "    }\n",
              "    30% {\n",
              "      border-color: transparent;\n",
              "      border-left-color: var(--fill-color);\n",
              "      border-top-color: var(--fill-color);\n",
              "      border-right-color: var(--fill-color);\n",
              "    }\n",
              "    40% {\n",
              "      border-color: transparent;\n",
              "      border-right-color: var(--fill-color);\n",
              "      border-top-color: var(--fill-color);\n",
              "    }\n",
              "    60% {\n",
              "      border-color: transparent;\n",
              "      border-right-color: var(--fill-color);\n",
              "    }\n",
              "    80% {\n",
              "      border-color: transparent;\n",
              "      border-right-color: var(--fill-color);\n",
              "      border-bottom-color: var(--fill-color);\n",
              "    }\n",
              "    90% {\n",
              "      border-color: transparent;\n",
              "      border-bottom-color: var(--fill-color);\n",
              "    }\n",
              "  }\n",
              "</style>\n",
              "\n",
              "  <script>\n",
              "    async function quickchart(key) {\n",
              "      const quickchartButtonEl =\n",
              "        document.querySelector('#' + key + ' button');\n",
              "      quickchartButtonEl.disabled = true;  // To prevent multiple clicks.\n",
              "      quickchartButtonEl.classList.add('colab-df-spinner');\n",
              "      try {\n",
              "        const charts = await google.colab.kernel.invokeFunction(\n",
              "            'suggestCharts', [key], {});\n",
              "      } catch (error) {\n",
              "        console.error('Error during call to suggestCharts:', error);\n",
              "      }\n",
              "      quickchartButtonEl.classList.remove('colab-df-spinner');\n",
              "      quickchartButtonEl.classList.add('colab-df-quickchart-complete');\n",
              "    }\n",
              "    (() => {\n",
              "      let quickchartButtonEl =\n",
              "        document.querySelector('#df-096a7ff2-07ab-4f71-85ae-c72bc7c5ec66 button');\n",
              "      quickchartButtonEl.style.display =\n",
              "        google.colab.kernel.accessAllowed ? 'block' : 'none';\n",
              "    })();\n",
              "  </script>\n",
              "</div>\n",
              "\n",
              "  <div id=\"id_d9cd00eb-82d3-4f86-9a31-5e84790b8a8f\">\n",
              "    <style>\n",
              "      .colab-df-generate {\n",
              "        background-color: #E8F0FE;\n",
              "        border: none;\n",
              "        border-radius: 50%;\n",
              "        cursor: pointer;\n",
              "        display: none;\n",
              "        fill: #1967D2;\n",
              "        height: 32px;\n",
              "        padding: 0 0 0 0;\n",
              "        width: 32px;\n",
              "      }\n",
              "\n",
              "      .colab-df-generate:hover {\n",
              "        background-color: #E2EBFA;\n",
              "        box-shadow: 0px 1px 2px rgba(60, 64, 67, 0.3), 0px 1px 3px 1px rgba(60, 64, 67, 0.15);\n",
              "        fill: #174EA6;\n",
              "      }\n",
              "\n",
              "      [theme=dark] .colab-df-generate {\n",
              "        background-color: #3B4455;\n",
              "        fill: #D2E3FC;\n",
              "      }\n",
              "\n",
              "      [theme=dark] .colab-df-generate:hover {\n",
              "        background-color: #434B5C;\n",
              "        box-shadow: 0px 1px 3px 1px rgba(0, 0, 0, 0.15);\n",
              "        filter: drop-shadow(0px 1px 2px rgba(0, 0, 0, 0.3));\n",
              "        fill: #FFFFFF;\n",
              "      }\n",
              "    </style>\n",
              "    <button class=\"colab-df-generate\" onclick=\"generateWithVariable('res')\"\n",
              "            title=\"Generate code using this dataframe.\"\n",
              "            style=\"display:none;\">\n",
              "\n",
              "  <svg xmlns=\"http://www.w3.org/2000/svg\" height=\"24px\"viewBox=\"0 0 24 24\"\n",
              "       width=\"24px\">\n",
              "    <path d=\"M7,19H8.4L18.45,9,17,7.55,7,17.6ZM5,21V16.75L18.45,3.32a2,2,0,0,1,2.83,0l1.4,1.43a1.91,1.91,0,0,1,.58,1.4,1.91,1.91,0,0,1-.58,1.4L9.25,21ZM18.45,9,17,7.55Zm-12,3A5.31,5.31,0,0,0,4.9,8.1,5.31,5.31,0,0,0,1,6.5,5.31,5.31,0,0,0,4.9,4.9,5.31,5.31,0,0,0,6.5,1,5.31,5.31,0,0,0,8.1,4.9,5.31,5.31,0,0,0,12,6.5,5.46,5.46,0,0,0,6.5,12Z\"/>\n",
              "  </svg>\n",
              "    </button>\n",
              "    <script>\n",
              "      (() => {\n",
              "      const buttonEl =\n",
              "        document.querySelector('#id_d9cd00eb-82d3-4f86-9a31-5e84790b8a8f button.colab-df-generate');\n",
              "      buttonEl.style.display =\n",
              "        google.colab.kernel.accessAllowed ? 'block' : 'none';\n",
              "\n",
              "      buttonEl.onclick = () => {\n",
              "        google.colab.notebook.generateWithVariable('res');\n",
              "      }\n",
              "      })();\n",
              "    </script>\n",
              "  </div>\n",
              "\n",
              "    </div>\n",
              "  </div>\n"
            ],
            "application/vnd.google.colaboratory.intrinsic+json": {
              "type": "dataframe",
              "variable_name": "res"
            }
          },
          "metadata": {},
          "execution_count": 49
        }
      ]
    },
    {
      "cell_type": "code",
      "source": [
        "res.to_csv(\"Submission.csv\")\n"
      ],
      "metadata": {
        "id": "Nx2JsLT7OCE_"
      },
      "execution_count": 50,
      "outputs": []
    },
    {
      "cell_type": "code",
      "source": [],
      "metadata": {
        "id": "qNH3Bkz8PoRe"
      },
      "execution_count": null,
      "outputs": []
    }
  ]
}